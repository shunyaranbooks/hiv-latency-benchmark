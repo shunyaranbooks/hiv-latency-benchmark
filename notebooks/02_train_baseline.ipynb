{
 "cells": [
  {
   "cell_type": "markdown",
   "id": "d41f63cf",
   "metadata": {},
   "source": [
    "# 02 Train Baseline\n",
    "\n",
    "Train a baseline multiclass classifier and inspect calibration."
   ]
  }
 ],
 "metadata": {},
 "nbformat": 4,
 "nbformat_minor": 5
}