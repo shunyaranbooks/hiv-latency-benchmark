{
 "cells": [
  {
   "cell_type": "markdown",
   "id": "d41f63cf",
   "metadata": {},
   "source": [
    "# 02 Train Baseline\n",
    "\n",
    "Train a baseline multiclass classifier and inspect calibration."
   ]
  },
  {
   "cell_type": "markdown",
   "id": "a5cd8a53",
   "metadata": {},
   "source": []
  },
  {
   "cell_type": "code",
   "execution_count": null,
   "id": "311c36f7",
   "metadata": {
    "vscode": {
     "languageId": "plaintext"
    }
   },
   "outputs": [],
   "source": []
  },
  {
   "cell_type": "code",
   "execution_count": null,
   "id": "e6dedbc5",
   "metadata": {
    "vscode": {
     "languageId": "plaintext"
    }
   },
   "outputs": [],
   "source": []
  }
 ],
 "metadata": {
  "language_info": {
   "name": "python"
  }
 },
 "nbformat": 4,
 "nbformat_minor": 5
}
